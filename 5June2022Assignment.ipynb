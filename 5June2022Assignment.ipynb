{
 "cells": [
  {
   "cell_type": "raw",
   "id": "9c71170e",
   "metadata": {},
   "source": [
    "Q1 : try to print a prime number in between 1 to 100"
   ]
  },
  {
   "cell_type": "code",
   "execution_count": 63,
   "id": "adfeb40a",
   "metadata": {},
   "outputs": [
    {
     "name": "stdout",
     "output_type": "stream",
     "text": [
      "1\n",
      "2\n",
      "3\n",
      "5\n",
      "7\n",
      "11\n",
      "13\n",
      "17\n",
      "19\n",
      "23\n",
      "29\n",
      "31\n",
      "37\n",
      "41\n",
      "43\n",
      "47\n",
      "53\n",
      "59\n",
      "61\n",
      "67\n",
      "71\n",
      "73\n",
      "79\n",
      "83\n",
      "89\n",
      "97\n"
     ]
    }
   ],
   "source": [
    "for i in range(1,100) :\n",
    "    count = 0\n",
    "    for j in range(1,100) :\n",
    "        if((i>j) and (j != 1) and (i % j == 0)):\n",
    "            count = count + 1\n",
    "    \n",
    "    if count == 0:\n",
    "        print(i)\n",
    "        "
   ]
  },
  {
   "cell_type": "code",
   "execution_count": null,
   "id": "4910963b",
   "metadata": {},
   "outputs": [],
   "source": [
    "q2 : try to write a function which is equivalent to print function in python"
   ]
  },
  {
   "cell_type": "code",
   "execution_count": 12,
   "id": "32da05c4",
   "metadata": {},
   "outputs": [],
   "source": [
    "def printFunction(text):\n",
    "    '''This function works as a print function'''\n",
    "    return text"
   ]
  },
  {
   "cell_type": "code",
   "execution_count": 2,
   "id": "59006df4",
   "metadata": {},
   "outputs": [
    {
     "data": {
      "text/plain": [
       "'Hello world'"
      ]
     },
     "execution_count": 2,
     "metadata": {},
     "output_type": "execute_result"
    }
   ],
   "source": [
    "printFunction(\"Hello world\")"
   ]
  },
  {
   "cell_type": "raw",
   "id": "8bb44ea8",
   "metadata": {},
   "source": [
    "q3 : try to write a function which is a replica of list append, extend and pop function"
   ]
  },
  {
   "cell_type": "code",
   "execution_count": null,
   "id": "0f9bef3d",
   "metadata": {},
   "outputs": [],
   "source": []
  },
  {
   "cell_type": "raw",
   "id": "1a0fa911",
   "metadata": {},
   "source": [
    "q4 : try to write a lambda function which can return a concatenation of all the string which we pass"
   ]
  },
  {
   "cell_type": "code",
   "execution_count": null,
   "id": "7b44068d",
   "metadata": {},
   "outputs": [],
   "source": [
    "# method 1 using + operator"
   ]
  },
  {
   "cell_type": "code",
   "execution_count": 44,
   "id": "5bfd4d4e",
   "metadata": {},
   "outputs": [],
   "source": [
    "ConcatStringsPlusOperator = lambda a, b : a+b"
   ]
  },
  {
   "cell_type": "code",
   "execution_count": 45,
   "id": "7d3b2321",
   "metadata": {},
   "outputs": [
    {
     "data": {
      "text/plain": [
       "'string1string2'"
      ]
     },
     "execution_count": 45,
     "metadata": {},
     "output_type": "execute_result"
    }
   ],
   "source": [
    "ConcatStringsPlusOperator(\"string1\",\"string2\")"
   ]
  },
  {
   "cell_type": "code",
   "execution_count": null,
   "id": "353aa04c",
   "metadata": {},
   "outputs": [],
   "source": [
    "# method 2 using join operator"
   ]
  },
  {
   "cell_type": "code",
   "execution_count": 42,
   "id": "cae8ef59",
   "metadata": {},
   "outputs": [],
   "source": [
    "ConcatStringsJoinOperator = lambda a, b : ''.join([a, b])"
   ]
  },
  {
   "cell_type": "code",
   "execution_count": 43,
   "id": "512143af",
   "metadata": {},
   "outputs": [
    {
     "data": {
      "text/plain": [
       "'string1string2'"
      ]
     },
     "execution_count": 43,
     "metadata": {},
     "output_type": "execute_result"
    }
   ],
   "source": [
    "ConcatStringsJoinOperator(\"string1\",\"string2\")"
   ]
  },
  {
   "cell_type": "raw",
   "id": "fd0c6c8a",
   "metadata": {},
   "source": [
    "q5 : try to write a lambda function which can return a list of square of data between 1 and 100"
   ]
  },
  {
   "cell_type": "code",
   "execution_count": 79,
   "id": "c7471632",
   "metadata": {},
   "outputs": [
    {
     "name": "stdout",
     "output_type": "stream",
     "text": [
      "[1, 4, 9, 16, 25, 36, 49, 64, 81, 100, 121, 144, 169, 196, 225, 256, 289, 324, 361, 400, 441, 484, 529, 576, 625, 676, 729, 784, 841, 900, 961, 1024, 1089, 1156, 1225, 1296, 1369, 1444, 1521, 1600, 1681, 1764, 1849, 1936, 2025, 2116, 2209, 2304, 2401, 2500, 2601, 2704, 2809, 2916, 3025, 3136, 3249, 3364, 3481, 3600, 3721, 3844, 3969, 4096, 4225, 4356, 4489, 4624, 4761, 4900, 5041, 5184, 5329, 5476, 5625, 5776, 5929, 6084, 6241, 6400, 6561, 6724, 6889, 7056, 7225, 7396, 7569, 7744, 7921, 8100, 8281, 8464, 8649, 8836, 9025, 9216, 9409, 9604, 9801, 10000]\n"
     ]
    }
   ],
   "source": [
    "SquareList = list(map(lambda x: x * x , range(1,101)))\n",
    "\n",
    "print(SquareList)"
   ]
  },
  {
   "cell_type": "raw",
   "id": "be3d981f",
   "metadata": {},
   "source": [
    "# q6 : try to write a 10 different example of lambda function with a choice of yours tasks"
   ]
  },
  {
   "cell_type": "code",
   "execution_count": 83,
   "id": "c56e42ff",
   "metadata": {},
   "outputs": [],
   "source": [
    "# display numbers 1 t0 10 using lambda"
   ]
  },
  {
   "cell_type": "code",
   "execution_count": 84,
   "id": "519e706c",
   "metadata": {},
   "outputs": [
    {
     "name": "stdout",
     "output_type": "stream",
     "text": [
      "[1, 2, 3, 4, 5, 6, 7, 8, 9, 10]\n"
     ]
    }
   ],
   "source": [
    "SquareList = list(map(lambda x: x , range(1,11)))\n",
    "print(SquareList)"
   ]
  },
  {
   "cell_type": "code",
   "execution_count": null,
   "id": "ac4ae7b9",
   "metadata": {},
   "outputs": [],
   "source": [
    "# lambda function to find greater of 2 numbers"
   ]
  },
  {
   "cell_type": "code",
   "execution_count": 85,
   "id": "d9626829",
   "metadata": {},
   "outputs": [],
   "source": [
    "Max = lambda a, b : a if(a > b) else b"
   ]
  },
  {
   "cell_type": "code",
   "execution_count": 86,
   "id": "beb1ba05",
   "metadata": {},
   "outputs": [
    {
     "data": {
      "text/plain": [
       "6"
      ]
     },
     "execution_count": 86,
     "metadata": {},
     "output_type": "execute_result"
    }
   ],
   "source": [
    "Max(5,6)"
   ]
  },
  {
   "cell_type": "code",
   "execution_count": 87,
   "id": "aba46893",
   "metadata": {},
   "outputs": [],
   "source": [
    "# lambda function to print addition of 2 numbers"
   ]
  },
  {
   "cell_type": "code",
   "execution_count": 47,
   "id": "82cd9faf",
   "metadata": {},
   "outputs": [],
   "source": [
    "sum = lambda a, b : a+b"
   ]
  },
  {
   "cell_type": "code",
   "execution_count": 48,
   "id": "ad980a99",
   "metadata": {},
   "outputs": [
    {
     "data": {
      "text/plain": [
       "11"
      ]
     },
     "execution_count": 48,
     "metadata": {},
     "output_type": "execute_result"
    }
   ],
   "source": [
    "sum(5,6)"
   ]
  },
  {
   "cell_type": "code",
   "execution_count": null,
   "id": "8ae763f0",
   "metadata": {},
   "outputs": [],
   "source": [
    "# lambda function to print subtraction of 2 numbers"
   ]
  },
  {
   "cell_type": "code",
   "execution_count": 49,
   "id": "9676e603",
   "metadata": {},
   "outputs": [],
   "source": [
    "subtract = lambda a, b : a-b       "
   ]
  },
  {
   "cell_type": "code",
   "execution_count": 50,
   "id": "1eb5fa48",
   "metadata": {},
   "outputs": [
    {
     "data": {
      "text/plain": [
       "-1"
      ]
     },
     "execution_count": 50,
     "metadata": {},
     "output_type": "execute_result"
    }
   ],
   "source": [
    "subtract(5,6)"
   ]
  },
  {
   "cell_type": "code",
   "execution_count": null,
   "id": "42e0500a",
   "metadata": {},
   "outputs": [],
   "source": [
    "# lambda function to print multiplication of 2 numbers"
   ]
  },
  {
   "cell_type": "code",
   "execution_count": 52,
   "id": "be93eecb",
   "metadata": {},
   "outputs": [],
   "source": [
    "multiply = lambda a, b : a*b "
   ]
  },
  {
   "cell_type": "code",
   "execution_count": 53,
   "id": "27e8c1d8",
   "metadata": {},
   "outputs": [
    {
     "data": {
      "text/plain": [
       "30"
      ]
     },
     "execution_count": 53,
     "metadata": {},
     "output_type": "execute_result"
    }
   ],
   "source": [
    "multiply(5,6)"
   ]
  },
  {
   "cell_type": "code",
   "execution_count": 54,
   "id": "ddb920ee",
   "metadata": {},
   "outputs": [],
   "source": [
    "# lambda function to print division of 2 numbers"
   ]
  },
  {
   "cell_type": "code",
   "execution_count": 55,
   "id": "3772d7b6",
   "metadata": {},
   "outputs": [],
   "source": [
    "division = lambda a, b : a/b"
   ]
  },
  {
   "cell_type": "code",
   "execution_count": 56,
   "id": "aaba5977",
   "metadata": {},
   "outputs": [
    {
     "data": {
      "text/plain": [
       "0.8333333333333334"
      ]
     },
     "execution_count": 56,
     "metadata": {},
     "output_type": "execute_result"
    }
   ],
   "source": [
    "division(5,6)"
   ]
  },
  {
   "cell_type": "code",
   "execution_count": 61,
   "id": "04dc4ed3",
   "metadata": {},
   "outputs": [],
   "source": [
    "# lambda function to sort the list. "
   ]
  },
  {
   "cell_type": "code",
   "execution_count": 87,
   "id": "a5c730a9",
   "metadata": {},
   "outputs": [],
   "source": [
    "l4 = [5,4,9,3,98]"
   ]
  },
  {
   "cell_type": "code",
   "execution_count": 88,
   "id": "a28e83e5",
   "metadata": {},
   "outputs": [],
   "source": [
    "sortlist = lambda list : list.sort()"
   ]
  },
  {
   "cell_type": "code",
   "execution_count": 90,
   "id": "edc2b968",
   "metadata": {},
   "outputs": [],
   "source": [
    "sortlist(l4)"
   ]
  },
  {
   "cell_type": "code",
   "execution_count": 91,
   "id": "417c5057",
   "metadata": {},
   "outputs": [
    {
     "data": {
      "text/plain": [
       "[3, 4, 5, 9, 98]"
      ]
     },
     "execution_count": 91,
     "metadata": {},
     "output_type": "execute_result"
    }
   ],
   "source": [
    "l4"
   ]
  },
  {
   "cell_type": "code",
   "execution_count": null,
   "id": "d6247aa3",
   "metadata": {},
   "outputs": [],
   "source": [
    "# lambda function with filter. lambda function to display numbers divisible by 2"
   ]
  },
  {
   "cell_type": "code",
   "execution_count": 70,
   "id": "d4f307b6",
   "metadata": {},
   "outputs": [
    {
     "name": "stdout",
     "output_type": "stream",
     "text": [
      "[2, 4, 6, 8, 10]\n"
     ]
    }
   ],
   "source": [
    "number = [1,2,3,4,5,6,7,8,9,10]\n",
    "multiples_of_2 = list(filter(lambda a: (a%2 == 0) ,number))\n",
    "print(multiples_of_2)"
   ]
  },
  {
   "cell_type": "code",
   "execution_count": null,
   "id": "c67d26b9",
   "metadata": {},
   "outputs": [],
   "source": [
    "# lambda function with map. lambda function to display reminders when divided by 2 "
   ]
  },
  {
   "cell_type": "code",
   "execution_count": 72,
   "id": "89c9c1b9",
   "metadata": {},
   "outputs": [
    {
     "name": "stdout",
     "output_type": "stream",
     "text": [
      "[0, 1, 0, 1, 0]\n"
     ]
    }
   ],
   "source": [
    "mylist = [2,3,4,5,6,]\n",
    "list_new  = list(map(lambda x : x%2, mylist))\n",
    "print(list_new)"
   ]
  },
  {
   "cell_type": "code",
   "execution_count": 68,
   "id": "56680b9c",
   "metadata": {},
   "outputs": [
    {
     "name": "stdout",
     "output_type": "stream",
     "text": [
      "15\n"
     ]
    }
   ],
   "source": [
    "#  Using lambda inside reduce. reduce() function performs a repetitive operation over the pairs of the elements in the list.\n",
    "from functools import reduce\n",
    "sum = reduce((lambda x,y: x+y), [1,2,3,4,5])\n",
    "print(sum)"
   ]
  },
  {
   "cell_type": "raw",
   "id": "4e6ec49a",
   "metadata": {},
   "source": [
    "q7 : try to write a function which can perform a read operation from .txt file"
   ]
  },
  {
   "cell_type": "code",
   "execution_count": null,
   "id": "62059a6f",
   "metadata": {},
   "outputs": [],
   "source": [
    "# method 1"
   ]
  },
  {
   "cell_type": "code",
   "execution_count": 35,
   "id": "55984744",
   "metadata": {},
   "outputs": [],
   "source": [
    "def readFile1(path):\n",
    "    file1 = open(path,\"r\")\n",
    "    contents =  file1.read()\n",
    "    return contents\n",
    "    file1.close()"
   ]
  },
  {
   "cell_type": "code",
   "execution_count": 36,
   "id": "9f8179fb",
   "metadata": {},
   "outputs": [
    {
     "data": {
      "text/plain": [
       "'\\nThis is a notepad file line 1\\nThis is a notepad file line 2\\nThis is a notepad file line 3\\nThis is a notepad file line 4'"
      ]
     },
     "execution_count": 36,
     "metadata": {},
     "output_type": "execute_result"
    }
   ],
   "source": [
    "readFile1(\"C://Users//shara//Desktop//Javascript//SampleNotepad.txt\")"
   ]
  },
  {
   "cell_type": "code",
   "execution_count": 39,
   "id": "dbe273dc",
   "metadata": {},
   "outputs": [],
   "source": [
    "# method 2"
   ]
  },
  {
   "cell_type": "code",
   "execution_count": 37,
   "id": "71806825",
   "metadata": {},
   "outputs": [],
   "source": [
    "def readFile2(path):\n",
    "    file1 = open(path,\"r\")\n",
    "    contents = file1.read()\n",
    "    print(contents)\n",
    "    file1.close()"
   ]
  },
  {
   "cell_type": "code",
   "execution_count": 38,
   "id": "48c74c1e",
   "metadata": {},
   "outputs": [
    {
     "name": "stdout",
     "output_type": "stream",
     "text": [
      "\n",
      "This is a notepad file line 1\n",
      "This is a notepad file line 2\n",
      "This is a notepad file line 3\n",
      "This is a notepad file line 4\n"
     ]
    }
   ],
   "source": [
    "readFile2(\"C://Users//shara//Desktop//Javascript//SampleNotepad.txt\")"
   ]
  }
 ],
 "metadata": {
  "kernelspec": {
   "display_name": "Python 3 (ipykernel)",
   "language": "python",
   "name": "python3"
  },
  "language_info": {
   "codemirror_mode": {
    "name": "ipython",
    "version": 3
   },
   "file_extension": ".py",
   "mimetype": "text/x-python",
   "name": "python",
   "nbconvert_exporter": "python",
   "pygments_lexer": "ipython3",
   "version": "3.9.7"
  }
 },
 "nbformat": 4,
 "nbformat_minor": 5
}
